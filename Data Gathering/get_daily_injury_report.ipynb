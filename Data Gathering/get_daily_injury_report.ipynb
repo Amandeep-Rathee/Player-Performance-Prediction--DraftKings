{
 "cells": [
  {
   "cell_type": "code",
   "execution_count": null,
   "metadata": {},
   "outputs": [],
   "source": [
    "!pip install selenium"
   ]
  },
  {
   "cell_type": "code",
   "execution_count": 7,
   "metadata": {},
   "outputs": [
    {
     "name": "stderr",
     "output_type": "stream",
     "text": [
      "<ipython-input-7-931ad315db39>:10: DeprecationWarning: executable_path has been deprecated, please pass in a Service object\n",
      "  driver = webdriver.Chrome(executable_path = \"C:\\\\Users\\\\HP\\\\Downloads\\\\chromedriver_win32\\\\chromedriver.exe\")\n"
     ]
    }
   ],
   "source": [
    "import os\n",
    "from selenium import webdriver\n",
    "import pandas as pd\n",
    "from datetime import date\n",
    "\n",
    "global driver\n",
    "\n",
    "driver = webdriver.Chrome(executable_path = \"C:\\\\Users\\\\HP\\\\Downloads\\\\chromedriver_win32\\\\chromedriver.exe\")\n",
    "driver.get('https://www.rotoworld.com/basketball/nba/injury-report')"
   ]
  },
  {
   "cell_type": "code",
   "execution_count": 8,
   "metadata": {},
   "outputs": [],
   "source": [
    "def ffi(a):\n",
    "    try:\n",
    "        return(driver.find_element_by_xpath(a).text)\n",
    "    except:\n",
    "        return(None)"
   ]
  },
  {
   "cell_type": "code",
   "execution_count": 9,
   "metadata": {},
   "outputs": [],
   "source": [
    "def collect_info_line(team, i):\n",
    "    TEAM = ffi('//*[@id=\"injury-report-page-wrapper\"]/div/div[2]/div[{}]/a/div/div[2]'.format(team))\n",
    "    player = ffi('//*[@id=\"injury-report-page-wrapper\"]/div/div[2]/div[{}]/div/div/div[1]/table/tbody/tr[{}]/td[1]/span/a'.format(team, i))\n",
    "    position = ffi('//*[@id=\"injury-report-page-wrapper\"]/div/div[2]/div[{}]/div/div/div[1]/table/tbody/tr[{}]/td[2]'.format(team, i))\n",
    "    status = ffi('//*[@id=\"injury-report-page-wrapper\"]/div/div[2]/div[{}]/div/div/div[1]/table/tbody/tr[{}]/td[3]'.format(team, i))\n",
    "    date = ffi('//*[@id=\"injury-report-page-wrapper\"]/div/div[2]/div[{}]/div/div/div[1]/table/tbody/tr[{}]/td[4]'.format(team, i))\n",
    "    injury = ffi('//*[@id=\"injury-report-page-wrapper\"]/div/div[2]/div[{}]/div/div/div[1]/table/tbody/tr[{}]/td[5]'.format(team, i))\n",
    "    returns = ffi('//*[@id=\"injury-report-page-wrapper\"]/div/div[2]/div[{}]/div/div/div[1]/table/tbody/tr[{}]/td[6]'.format(team, i))\n",
    "\n",
    "    if player is not None:\n",
    "        print(TEAM, player, status)\n",
    "    return([TEAM, player, position, status, date, injury, returns])"
   ]
  },
  {
   "cell_type": "code",
   "execution_count": 10,
   "metadata": {},
   "outputs": [
    {
     "name": "stderr",
     "output_type": "stream",
     "text": [
      "<ipython-input-8-a2eda8d77978>:3: DeprecationWarning: find_element_by_* commands are deprecated. Please use find_element() instead\n",
      "  return(driver.find_element_by_xpath(a).text)\n"
     ]
    },
    {
     "name": "stdout",
     "output_type": "stream",
     "text": [
      "ATLANTA Lou Williams Sidelined\n",
      "BOSTON Bol Bol Sidelined\n",
      "BOSTON P.J. Dozier Sidelined\n",
      "BROOKLYN Nicolas Claxton Questionable\n",
      "BROOKLYN James Harden Sidelined\n",
      "BROOKLYN LaMarcus Aldridge Sidelined\n",
      "BROOKLYN Paul Millsap Sidelined\n",
      "BROOKLYN Kevin Durant Sidelined\n",
      "BROOKLYN Joe Harris Sidelined\n",
      "CHARLOTTE Cody Martin Sidelined\n",
      "CHARLOTTE Gordon Hayward Sidelined\n",
      "CHARLOTTE James Bouknight Sidelined\n",
      "CHARLOTTE Jalen McDaniels Sidelined\n",
      "CHICAGO Ayo Dosunmu Sidelined\n",
      "CHICAGO Derrick Jones Jr. Sidelined\n",
      "CHICAGO Alex Caruso Sidelined\n",
      "CHICAGO Lonzo Ball Sidelined\n",
      "CHICAGO Patrick Williams Sidelined\n",
      "CLEVELAND Lauri Markkanen Sidelined\n",
      "CLEVELAND Collin Sexton Sidelined\n",
      "DALLAS Kristaps Porzingis Sidelined\n",
      "DALLAS Tim Hardaway Jr. Sidelined\n",
      "DALLAS Sterling Brown Questionable\n",
      "DALLAS Eugene Omoruyi Sidelined\n",
      "DENVER Austin Rivers Sidelined\n",
      "DENVER Vlatko Cancar Sidelined\n",
      "DENVER Michael Porter Jr. Sidelined\n",
      "DENVER Jamal Murray Sidelined\n",
      "DETROIT Killian Hayes Probable\n",
      "DETROIT Cade Cunningham Questionable\n",
      "DETROIT Jamorko Pickett Sidelined\n",
      "DETROIT Josh Jackson Questionable\n",
      "DETROIT Luka Garza Sidelined\n",
      "DETROIT Isaiah Livers Sidelined\n",
      "GOLDEN STATE Kevon Looney Probable\n",
      "GOLDEN STATE Andre Iguodala Sidelined\n",
      "GOLDEN STATE Nemanja Bjelica Sidelined\n",
      "GOLDEN STATE Draymond Green Sidelined\n",
      "GOLDEN STATE James Wiseman Sidelined\n",
      "HOUSTON Daniel Theis Sidelined\n",
      "HOUSTON Eric Gordon Questionable\n",
      "HOUSTON Usman Garuba Sidelined\n",
      "INDIANA Reggie Perry Sidelined\n",
      "INDIANA Isaiah Jackson Sidelined\n",
      "INDIANA Malcolm Brogdon Sidelined\n",
      "INDIANA Myles Turner Sidelined\n",
      "INDIANA Ricky Rubio Sidelined\n",
      "INDIANA T.J. McConnell Sidelined\n",
      "INDIANA T.J. Warren Sidelined\n",
      "LOS ANGELES Jay Scrubb Sidelined\n",
      "LOS ANGELES Paul George Sidelined\n",
      "LOS ANGELES Jason Preston Sidelined\n",
      "LOS ANGELES Kawhi Leonard Sidelined\n",
      "LOS ANGELES Russell Westbrook Questionable\n",
      "LOS ANGELES LeBron James Questionable\n",
      "LOS ANGELES Dwight Howard Questionable\n",
      "LOS ANGELES Carmelo Anthony Sidelined\n",
      "LOS ANGELES Sekou Doumbouya Sidelined\n",
      "LOS ANGELES Kendrick Nunn Sidelined\n",
      "MEMPHIS Yves Pons Sidelined\n",
      "MEMPHIS Santi Aldama Sidelined\n",
      "MEMPHIS Killian Tillie Sidelined\n",
      "MEMPHIS Dillon Brooks Sidelined\n",
      "MIAMI Caleb Martin Probable\n",
      "MIAMI Tyler Herro Probable\n",
      "MIAMI Markieff Morris Sidelined\n",
      "MIAMI Victor Oladipo Sidelined\n",
      "MILWAUKEE Grayson Allen Probable\n",
      "MILWAUKEE George Hill Sidelined\n",
      "MILWAUKEE Brook Lopez Sidelined\n",
      "MINNESOTA Anthony Edwards Questionable\n",
      "MINNESOTA McKinley Wright IV Sidelined\n",
      "MINNESOTA Patrick Beverley Sidelined\n",
      "NEW ORLEANS Willy Hernangomez Sidelined\n",
      "NEW ORLEANS Larry Nance Jr. Sidelined\n",
      "NEW ORLEANS Kira Lewis Jr. Sidelined\n",
      "NEW ORLEANS Zion Williamson Sidelined\n",
      "NEW YORK RJ Barrett Doubtful\n",
      "NEW YORK Mitchell Robinson Sidelined\n",
      "NEW YORK Nerlens Noel Questionable\n",
      "NEW YORK Quentin Grimes Questionable\n",
      "NEW YORK Ryan Arcidiacono Questionable\n",
      "NEW YORK Derrick Rose Sidelined\n",
      "OKLAHOMA CITY Mike Muscala Sidelined\n",
      "OKLAHOMA CITY Aaron Wiggins Sidelined\n",
      "OKLAHOMA CITY Jeremiah Robinson-Earl Sidelined\n",
      "OKLAHOMA CITY Isaiah Roby Sidelined\n",
      "OKLAHOMA CITY Shai Gilgeous-Alexander Sidelined\n",
      "OKLAHOMA CITY KZ Okpala Sidelined\n",
      "ORLANDO Jalen Suggs Sidelined\n",
      "ORLANDO Moritz Wagner Sidelined\n",
      "ORLANDO RJ Hampton Sidelined\n",
      "ORLANDO E'Twaun Moore Sidelined\n",
      "ORLANDO Michael Carter-Williams Sidelined\n",
      "ORLANDO Markelle Fultz Sidelined\n",
      "ORLANDO Jonathan Isaac Sidelined\n",
      "PHILADELPHIA Shake Milton Sidelined\n",
      "PHILADELPHIA Ben Simmons Sidelined\n",
      "PHOENIX Landry Shamet Sidelined\n",
      "PHOENIX Cameron Payne Sidelined\n",
      "PHOENIX Abdel Nader Sidelined\n",
      "PHOENIX Frank Kaminsky Sidelined\n",
      "PHOENIX Dario Saric Sidelined\n",
      "PORTLAND Josh Hart Sidelined\n",
      "PORTLAND Keon Johnson Sidelined\n",
      "PORTLAND Eric Bledsoe Sidelined\n",
      "PORTLAND Trendon Watford Probable\n",
      "PORTLAND Joe Ingles Sidelined\n",
      "PORTLAND Marcos Louzada Silva Sidelined\n",
      "PORTLAND Nassir Little Sidelined\n",
      "PORTLAND Damian Lillard Sidelined\n",
      "SACRAMENTO Justin Holiday Questionable\n",
      "SACRAMENTO Moe Harkless Sidelined\n",
      "SACRAMENTO Marvin Bagley Sidelined\n",
      "SACRAMENTO Terence Davis Sidelined\n",
      "SAN ANTONIO Tre Jones Sidelined\n",
      "SAN ANTONIO Keita Bates-Diop Sidelined\n",
      "TORONTO David Johnson Sidelined\n",
      "TORONTO Goran Dragic Sidelined\n",
      "UTAH Rudy Gay Sidelined\n",
      "UTAH Rudy Gobert Sidelined\n",
      "WASHINGTON Daniel Gafford Sidelined\n",
      "WASHINGTON Bradley Beal Sidelined\n",
      "WASHINGTON Cassius Winston Sidelined\n"
     ]
    }
   ],
   "source": [
    "Injuries = []\n",
    "for team in range(1, 31):\n",
    "    for i in range(1, 50):\n",
    "        info = collect_info_line(team, i)\n",
    "        if info[1] is not None:\n",
    "            Injuries.append(info)\n",
    "        else: # if we have info[1] is None it means that there is no more injuries for this team : we go to next team\n",
    "            break"
   ]
  },
  {
   "cell_type": "code",
   "execution_count": 11,
   "metadata": {},
   "outputs": [],
   "source": [
    "Injuries = pd.DataFrame(Injuries)\n",
    "Injuries.columns = ['Team', 'Player', 'Position', 'Status', 'News date', 'Injury', 'Return date']\n",
    "Injuries.to_csv('Injuries_report_{}.csv'.format(date.today()), index = False, sep = ';')"
   ]
  },
  {
   "cell_type": "code",
   "execution_count": 14,
   "metadata": {},
   "outputs": [
    {
     "data": {
      "text/html": [
       "<div>\n",
       "<style scoped>\n",
       "    .dataframe tbody tr th:only-of-type {\n",
       "        vertical-align: middle;\n",
       "    }\n",
       "\n",
       "    .dataframe tbody tr th {\n",
       "        vertical-align: top;\n",
       "    }\n",
       "\n",
       "    .dataframe thead th {\n",
       "        text-align: right;\n",
       "    }\n",
       "</style>\n",
       "<table border=\"1\" class=\"dataframe\">\n",
       "  <thead>\n",
       "    <tr style=\"text-align: right;\">\n",
       "      <th></th>\n",
       "      <th>Team;Player;Position;Status;News date;Injury;Return date</th>\n",
       "    </tr>\n",
       "  </thead>\n",
       "  <tbody>\n",
       "    <tr>\n",
       "      <th>ATLANTA;Lou Williams;SG;Sidelined;Feb 4</th>\n",
       "      <td>2022;Hamstring;Day-to-day</td>\n",
       "    </tr>\n",
       "    <tr>\n",
       "      <th>BOSTON;Bol Bol;C;Sidelined;Jan 10</th>\n",
       "      <td>2022;Foot;Out indefinitely</td>\n",
       "    </tr>\n",
       "    <tr>\n",
       "      <th>BOSTON;P.J. Dozier;SG;Sidelined;Nov 22</th>\n",
       "      <td>2021;Knee;Out indefinitely</td>\n",
       "    </tr>\n",
       "    <tr>\n",
       "      <th>BROOKLYN;Nicolas Claxton;PF;Questionable;Feb 4</th>\n",
       "      <td>2022;Hamstring;day-to-day</td>\n",
       "    </tr>\n",
       "    <tr>\n",
       "      <th>BROOKLYN;James Harden;SG;Sidelined;Feb 3</th>\n",
       "      <td>2022;Hamstring;Day-to-day</td>\n",
       "    </tr>\n",
       "  </tbody>\n",
       "</table>\n",
       "</div>"
      ],
      "text/plain": [
       "                                               Team;Player;Position;Status;News date;Injury;Return date\n",
       "ATLANTA;Lou Williams;SG;Sidelined;Feb 4                                 2022;Hamstring;Day-to-day      \n",
       "BOSTON;Bol Bol;C;Sidelined;Jan 10                                      2022;Foot;Out indefinitely      \n",
       "BOSTON;P.J. Dozier;SG;Sidelined;Nov 22                                 2021;Knee;Out indefinitely      \n",
       "BROOKLYN;Nicolas Claxton;PF;Questionable;Feb 4                          2022;Hamstring;day-to-day      \n",
       "BROOKLYN;James Harden;SG;Sidelined;Feb 3                                2022;Hamstring;Day-to-day      "
      ]
     },
     "execution_count": 14,
     "metadata": {},
     "output_type": "execute_result"
    }
   ],
   "source": [
    "df = pd.read_csv(\"Injuries_report_2022-02-09.csv\")\n",
    "df.head()"
   ]
  },
  {
   "cell_type": "code",
   "execution_count": null,
   "metadata": {},
   "outputs": [],
   "source": []
  }
 ],
 "metadata": {
  "kernelspec": {
   "display_name": "Python 3",
   "language": "python",
   "name": "python3"
  },
  "language_info": {
   "codemirror_mode": {
    "name": "ipython",
    "version": 3
   },
   "file_extension": ".py",
   "mimetype": "text/x-python",
   "name": "python",
   "nbconvert_exporter": "python",
   "pygments_lexer": "ipython3",
   "version": "3.8.5"
  }
 },
 "nbformat": 4,
 "nbformat_minor": 4
}
