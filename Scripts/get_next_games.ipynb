{
 "cells": [
  {
   "cell_type": "code",
   "execution_count": 1,
   "metadata": {},
   "outputs": [],
   "source": [
    "from bs4 import BeautifulSoup\n",
    "import requests"
   ]
  },
  {
   "cell_type": "code",
   "execution_count": 9,
   "metadata": {},
   "outputs": [],
   "source": [
    "import requests\n",
    "\n",
    "url = 'https://www.espn.com/nba/schedule'\n",
    "\n",
    "html_content = requests.get(url).text\n",
    "\n",
    "# Parse the html content\n",
    "soup = BeautifulSoup(html_content, \"lxml\")"
   ]
  },
  {
   "cell_type": "code",
   "execution_count": 10,
   "metadata": {},
   "outputs": [],
   "source": [
    "result = soup.findAll('a', {'class': 'AnchorLink', 'data-track-navmethod':'schedule'})"
   ]
  },
  {
   "cell_type": "code",
   "execution_count": 15,
   "metadata": {},
   "outputs": [],
   "source": [
    "teams_raw = [str(i)[:-4] for i in result if str(i)[-5] != '>']"
   ]
  },
  {
   "cell_type": "code",
   "execution_count": 16,
   "metadata": {},
   "outputs": [],
   "source": [
    "teams = [team.split('>')[-1] for team in teams_raw]"
   ]
  },
  {
   "cell_type": "code",
   "execution_count": 19,
   "metadata": {},
   "outputs": [
    {
     "data": {
      "text/plain": [
       "[('San Antonio', 'New Orleans'),\n",
       " ('Sacramento', 'Orlando'),\n",
       " ('Indiana', 'Toronto'),\n",
       " ('Chicago', 'Cleveland'),\n",
       " ('Brooklyn', 'Miami'),\n",
       " ('Milwaukee', 'Memphis'),\n",
       " ('Oklahoma City', 'Denver'),\n",
       " ('Houston', 'Portland'),\n",
       " ('New York', 'Detroit'),\n",
       " ('Minnesota', 'Boston'),\n",
       " ('Golden State', 'Washington'),\n",
       " ('Philadelphia', 'Phoenix'),\n",
       " ('Los Angeles', 'New Orleans'),\n",
       " ('Charlotte', 'Brooklyn'),\n",
       " ('Utah', 'Dallas'),\n",
       " ('Denver', 'Charlotte'),\n",
       " ('Orlando', 'Cleveland'),\n",
       " ('Atlanta', 'Indiana'),\n",
       " ('Sacramento', 'Miami'),\n",
       " ('Chicago', 'New York'),\n",
       " ('Boston', 'Toronto'),\n",
       " ('San Antonio', 'Houston'),\n",
       " ('Golden State', 'Memphis'),\n",
       " ('Oklahoma City', 'Portland'),\n",
       " ('Milwaukee', 'Philadelphia'),\n",
       " ('Chicago', 'Washington'),\n",
       " ('Detroit', 'Brooklyn'),\n",
       " ('Los Angeles', 'Dallas'),\n",
       " ('Utah', 'LA'),\n",
       " ('Dallas', 'Cleveland'),\n",
       " ('Denver', 'Indiana'),\n",
       " ('Orlando', 'Washington'),\n",
       " ('Miami', 'Boston'),\n",
       " ('Charlotte', 'New York'),\n",
       " ('Minnesota', 'Toronto'),\n",
       " ('Sacramento', 'Houston'),\n",
       " ('Atlanta', 'Oklahoma City'),\n",
       " ('Memphis', 'San Antonio'),\n",
       " ('Phoenix', 'Golden State'),\n",
       " ('New Orleans', 'Portland'),\n",
       " ('Philadelphia', 'Detroit'),\n",
       " ('Milwaukee', 'Brooklyn'),\n",
       " ('Cleveland', 'Atlanta'),\n",
       " ('LA', 'Chicago'),\n",
       " ('Los Angeles', 'Utah'),\n",
       " ('Toronto', 'Orlando'),\n",
       " ('Dallas', 'Washington'),\n",
       " ('Indiana', 'Boston'),\n",
       " ('Sacramento', 'Houston'),\n",
       " ('Phoenix', 'Memphis'),\n",
       " ('LA', 'Milwaukee'),\n",
       " ('Detroit', 'Oklahoma City'),\n",
       " ('Portland', 'San Antonio'),\n",
       " ('Minnesota', 'Denver'),\n",
       " ('New Orleans', 'Los Angeles')]"
      ]
     },
     "execution_count": 19,
     "metadata": {},
     "output_type": "execute_result"
    }
   ],
   "source": [
    "matches = []\n",
    "for i in range(0, len(teams), 2):\n",
    "    matches.append((teams[i], teams[i+1]))\n",
    "\n",
    "matches"
   ]
  }
 ],
 "metadata": {
  "interpreter": {
   "hash": "3a33b7c9f41f3d0555c86175fcd18d975f312bfacf6db047852762eed4e58e49"
  },
  "kernelspec": {
   "display_name": "Python 3.10.2 ('aml_3406-venv')",
   "language": "python",
   "name": "python3"
  },
  "language_info": {
   "codemirror_mode": {
    "name": "ipython",
    "version": 3
   },
   "file_extension": ".py",
   "mimetype": "text/x-python",
   "name": "python",
   "nbconvert_exporter": "python",
   "pygments_lexer": "ipython3",
   "version": "3.10.2"
  },
  "orig_nbformat": 4
 },
 "nbformat": 4,
 "nbformat_minor": 2
}
