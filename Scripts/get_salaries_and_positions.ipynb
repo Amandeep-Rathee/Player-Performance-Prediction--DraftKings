{
 "cells": [
  {
   "cell_type": "code",
   "execution_count": 1,
   "metadata": {},
   "outputs": [],
   "source": [
    "import requests\n",
    "import pandas as pd\n",
    "\n",
    "# URL from DraftKing to download the csv file with all the salary and position data\n",
    "csv_url = 'https://www.draftkings.com/lineup/getavailableplayerscsv?contestTypeId=70&draftGroupId=65997'\n",
    "r = requests.get(csv_url, allow_redirects=True)\n",
    "\n",
    "with open('salaries_and_positions.csv', 'wb') as f:\n",
    "    f.write(r.content)\n",
    "\n",
    "df = pd.read_csv('salaries_and_positions.csv')"
   ]
  },
  {
   "cell_type": "code",
   "execution_count": 2,
   "metadata": {},
   "outputs": [
    {
     "data": {
      "text/html": [
       "<div>\n",
       "<style scoped>\n",
       "    .dataframe tbody tr th:only-of-type {\n",
       "        vertical-align: middle;\n",
       "    }\n",
       "\n",
       "    .dataframe tbody tr th {\n",
       "        vertical-align: top;\n",
       "    }\n",
       "\n",
       "    .dataframe thead th {\n",
       "        text-align: right;\n",
       "    }\n",
       "</style>\n",
       "<table border=\"1\" class=\"dataframe\">\n",
       "  <thead>\n",
       "    <tr style=\"text-align: right;\">\n",
       "      <th></th>\n",
       "      <th>Position</th>\n",
       "      <th>Name + ID</th>\n",
       "      <th>Name</th>\n",
       "      <th>ID</th>\n",
       "      <th>Roster Position</th>\n",
       "      <th>Salary</th>\n",
       "      <th>Game Info</th>\n",
       "      <th>TeamAbbrev</th>\n",
       "      <th>AvgPointsPerGame</th>\n",
       "    </tr>\n",
       "  </thead>\n",
       "  <tbody>\n",
       "    <tr>\n",
       "      <th>0</th>\n",
       "      <td>C</td>\n",
       "      <td>Nikola Jokic (21833099) (LOCKED)</td>\n",
       "      <td>Nikola Jokic</td>\n",
       "      <td>21833099</td>\n",
       "      <td>C/UTIL</td>\n",
       "      <td>12000</td>\n",
       "      <td>Final</td>\n",
       "      <td>DEN</td>\n",
       "      <td>61.33</td>\n",
       "    </tr>\n",
       "    <tr>\n",
       "      <th>1</th>\n",
       "      <td>SF/PF</td>\n",
       "      <td>Giannis Antetokounmpo (21833101) (LOCKED)</td>\n",
       "      <td>Giannis Antetokounmpo</td>\n",
       "      <td>21833101</td>\n",
       "      <td>SF/PF/F/UTIL</td>\n",
       "      <td>11800</td>\n",
       "      <td>Final</td>\n",
       "      <td>MIL</td>\n",
       "      <td>58.29</td>\n",
       "    </tr>\n",
       "    <tr>\n",
       "      <th>2</th>\n",
       "      <td>SF/PF</td>\n",
       "      <td>Kevin Durant (21833105) (LOCKED)</td>\n",
       "      <td>Kevin Durant</td>\n",
       "      <td>21833105</td>\n",
       "      <td>SF/PF/F/UTIL</td>\n",
       "      <td>11600</td>\n",
       "      <td>Final</td>\n",
       "      <td>BKN</td>\n",
       "      <td>51.98</td>\n",
       "    </tr>\n",
       "  </tbody>\n",
       "</table>\n",
       "</div>"
      ],
      "text/plain": [
       "  Position                                  Name + ID                   Name  \\\n",
       "0        C           Nikola Jokic (21833099) (LOCKED)           Nikola Jokic   \n",
       "1    SF/PF  Giannis Antetokounmpo (21833101) (LOCKED)  Giannis Antetokounmpo   \n",
       "2    SF/PF           Kevin Durant (21833105) (LOCKED)           Kevin Durant   \n",
       "\n",
       "         ID Roster Position  Salary Game Info TeamAbbrev  AvgPointsPerGame  \n",
       "0  21833099          C/UTIL   12000     Final        DEN             61.33  \n",
       "1  21833101    SF/PF/F/UTIL   11800     Final        MIL             58.29  \n",
       "2  21833105    SF/PF/F/UTIL   11600     Final        BKN             51.98  "
      ]
     },
     "execution_count": 2,
     "metadata": {},
     "output_type": "execute_result"
    }
   ],
   "source": [
    "df.head(3)"
   ]
  },
  {
   "cell_type": "code",
   "execution_count": 3,
   "metadata": {},
   "outputs": [
    {
     "data": {
      "text/plain": [
       "Index(['Position', 'Name + ID', 'Name', 'ID', 'Roster Position', 'Salary',\n",
       "       'Game Info', 'TeamAbbrev', 'AvgPointsPerGame'],\n",
       "      dtype='object')"
      ]
     },
     "execution_count": 3,
     "metadata": {},
     "output_type": "execute_result"
    }
   ],
   "source": [
    "df.columns"
   ]
  },
  {
   "cell_type": "code",
   "execution_count": 5,
   "metadata": {},
   "outputs": [
    {
     "data": {
      "text/html": [
       "<div>\n",
       "<style scoped>\n",
       "    .dataframe tbody tr th:only-of-type {\n",
       "        vertical-align: middle;\n",
       "    }\n",
       "\n",
       "    .dataframe tbody tr th {\n",
       "        vertical-align: top;\n",
       "    }\n",
       "\n",
       "    .dataframe thead th {\n",
       "        text-align: right;\n",
       "    }\n",
       "</style>\n",
       "<table border=\"1\" class=\"dataframe\">\n",
       "  <thead>\n",
       "    <tr style=\"text-align: right;\">\n",
       "      <th></th>\n",
       "      <th>Name</th>\n",
       "      <th>Roster Position</th>\n",
       "      <th>Salary</th>\n",
       "      <th>TeamAbbrev</th>\n",
       "    </tr>\n",
       "  </thead>\n",
       "  <tbody>\n",
       "    <tr>\n",
       "      <th>0</th>\n",
       "      <td>Nikola Jokic</td>\n",
       "      <td>C/UTIL</td>\n",
       "      <td>12000</td>\n",
       "      <td>DEN</td>\n",
       "    </tr>\n",
       "    <tr>\n",
       "      <th>1</th>\n",
       "      <td>Giannis Antetokounmpo</td>\n",
       "      <td>SF/PF/F/UTIL</td>\n",
       "      <td>11800</td>\n",
       "      <td>MIL</td>\n",
       "    </tr>\n",
       "    <tr>\n",
       "      <th>2</th>\n",
       "      <td>Kevin Durant</td>\n",
       "      <td>SF/PF/F/UTIL</td>\n",
       "      <td>11600</td>\n",
       "      <td>BKN</td>\n",
       "    </tr>\n",
       "  </tbody>\n",
       "</table>\n",
       "</div>"
      ],
      "text/plain": [
       "                    Name Roster Position  Salary TeamAbbrev\n",
       "0           Nikola Jokic          C/UTIL   12000        DEN\n",
       "1  Giannis Antetokounmpo    SF/PF/F/UTIL   11800        MIL\n",
       "2           Kevin Durant    SF/PF/F/UTIL   11600        BKN"
      ]
     },
     "execution_count": 5,
     "metadata": {},
     "output_type": "execute_result"
    }
   ],
   "source": [
    "columns_to_drop = ['Position', 'Name + ID', 'ID', 'Game Info', 'AvgPointsPerGame']\n",
    "df.drop(columns=columns_to_drop, inplace=True)\n",
    "df.head(3)"
   ]
  },
  {
   "cell_type": "code",
   "execution_count": null,
   "metadata": {},
   "outputs": [],
   "source": [
    "df.columns = ['full_name', 'position', 'salary', 'team']"
   ]
  },
  {
   "cell_type": "code",
   "execution_count": 7,
   "metadata": {},
   "outputs": [
    {
     "data": {
      "text/html": [
       "<div>\n",
       "<style scoped>\n",
       "    .dataframe tbody tr th:only-of-type {\n",
       "        vertical-align: middle;\n",
       "    }\n",
       "\n",
       "    .dataframe tbody tr th {\n",
       "        vertical-align: top;\n",
       "    }\n",
       "\n",
       "    .dataframe thead th {\n",
       "        text-align: right;\n",
       "    }\n",
       "</style>\n",
       "<table border=\"1\" class=\"dataframe\">\n",
       "  <thead>\n",
       "    <tr style=\"text-align: right;\">\n",
       "      <th></th>\n",
       "      <th>full_name</th>\n",
       "      <th>position</th>\n",
       "      <th>salary</th>\n",
       "      <th>team</th>\n",
       "    </tr>\n",
       "  </thead>\n",
       "  <tbody>\n",
       "    <tr>\n",
       "      <th>0</th>\n",
       "      <td>Nikola Jokic</td>\n",
       "      <td>[C, UTIL]</td>\n",
       "      <td>12000</td>\n",
       "      <td>DEN</td>\n",
       "    </tr>\n",
       "    <tr>\n",
       "      <th>1</th>\n",
       "      <td>Giannis Antetokounmpo</td>\n",
       "      <td>[SF, PF, F, UTIL]</td>\n",
       "      <td>11800</td>\n",
       "      <td>MIL</td>\n",
       "    </tr>\n",
       "  </tbody>\n",
       "</table>\n",
       "</div>"
      ],
      "text/plain": [
       "               full_name           position  salary team\n",
       "0           Nikola Jokic          [C, UTIL]   12000  DEN\n",
       "1  Giannis Antetokounmpo  [SF, PF, F, UTIL]   11800  MIL"
      ]
     },
     "execution_count": 7,
     "metadata": {},
     "output_type": "execute_result"
    }
   ],
   "source": [
    "positions = [pos.split('/') for pos in df['position']]\n",
    "df['position'] = positions\n",
    "df.head(2)"
   ]
  },
  {
   "cell_type": "code",
   "execution_count": 9,
   "metadata": {},
   "outputs": [],
   "source": [
    "df.to_csv('salaries_and_positions.csv', index=False)"
   ]
  }
 ],
 "metadata": {
  "interpreter": {
   "hash": "3a33b7c9f41f3d0555c86175fcd18d975f312bfacf6db047852762eed4e58e49"
  },
  "kernelspec": {
   "display_name": "Python 3.10.2 ('aml_3406-venv')",
   "language": "python",
   "name": "python3"
  },
  "language_info": {
   "codemirror_mode": {
    "name": "ipython",
    "version": 3
   },
   "file_extension": ".py",
   "mimetype": "text/x-python",
   "name": "python",
   "nbconvert_exporter": "python",
   "pygments_lexer": "ipython3",
   "version": "3.10.2"
  },
  "orig_nbformat": 4
 },
 "nbformat": 4,
 "nbformat_minor": 2
}
