{
 "cells": [
  {
   "cell_type": "code",
   "execution_count": null,
   "metadata": {},
   "outputs": [],
   "source": [
    "import csv\n",
    "import mysql.connector\n",
    "from mysql.connector import errorcode"
   ]
  },
  {
   "cell_type": "code",
   "execution_count": 107,
   "metadata": {},
   "outputs": [],
   "source": [
    "PATH_NEW_DATA = 'G:/My Drive/Colab Notebooks/00 - Lambton/2022.1/04 - AML3406 - AI and ML Capstone Project/GitHub/Player-Performance-Improvement-Prediction/Scripts/players.csv'\n",
    "PATH_BACKUP = 'G:/My Drive/Colab Notebooks/00 - Lambton/2022.1/04 - AML3406 - AI and ML Capstone Project/GitHub/Player-Performance-Improvement-Prediction/Scripts/backup_players.csv'"
   ]
  },
  {
   "cell_type": "code",
   "execution_count": 64,
   "metadata": {},
   "outputs": [],
   "source": [
    "# Reading the csv file\n",
    "with open(PATH_NEW_DATA) as f:\n",
    "    spamreader = csv.reader(f, delimiter=',')\n",
    "    data = [row for row in spamreader]\n",
    "\n",
    "# Removing the header\n",
    "data = data[1:]"
   ]
  },
  {
   "cell_type": "code",
   "execution_count": 89,
   "metadata": {},
   "outputs": [],
   "source": [
    "def connect_to_sql(user, password, database):\n",
    "    try:\n",
    "        connection = mysql.connector.connect(user=user,\n",
    "                                            password=password,\n",
    "                                            database=database)\n",
    "        cursor = connection.cursor()\n",
    "        return connection, cursor\n",
    "\n",
    "    except mysql.connector.Error as err:\n",
    "        if err.errno == errorcode.ER_ACCESS_DENIED_ERROR:\n",
    "            print(\"Something is wrong with your user name or password\")\n",
    "        elif err.errno == errorcode.ER_BAD_DB_ERROR:\n",
    "            print(\"Database does not exist\")\n",
    "        else:\n",
    "          print(err)"
   ]
  },
  {
   "cell_type": "code",
   "execution_count": 106,
   "metadata": {},
   "outputs": [],
   "source": [
    "def insert_values_sql(data):\n",
    "    id = data[0]\n",
    "    full_name = data[1]\n",
    "    team = data[2]\n",
    "    salary = data[3]\n",
    "    position = data[4]\n",
    "    draftking = data[5]\n",
    "\n",
    "    QUERY = f'INSERT INTO sys.players(id, full_name, team, salary, position, draftking) VALUES({id}, \"{full_name}\", \"{team}\", {salary}, \"{position}\", {draftking})'\n",
    "\n",
    "    connection, cursor = connect_to_sql('root', 'admin', 'sys')\n",
    "    cursor.execute(QUERY)\n",
    "\n",
    "    connection.commit()\n",
    "    connection.close()"
   ]
  },
  {
   "cell_type": "code",
   "execution_count": 105,
   "metadata": {},
   "outputs": [],
   "source": [
    "def backup_sql_table():\n",
    "    QUERY = 'SELECT * FROM sys.players'\n",
    "\n",
    "    connection, cursor = connect_to_sql('root', 'admin', 'sys')\n",
    "    \n",
    "    cursor.execute(QUERY)\n",
    "    \n",
    "    with open(PATH_BACKUP, 'w', newline='') as f:\n",
    "        spamwriter = csv.writer(f, delimiter=',')\n",
    "        spamwriter.writerow(['id', 'full_name', 'team', 'salary', 'position', 'draftking'])\n",
    "        for data_entry in cursor:\n",
    "            spamwriter.writerow(list(data_entry))\n",
    "\n",
    "    connection.close()"
   ]
  },
  {
   "cell_type": "code",
   "execution_count": 110,
   "metadata": {},
   "outputs": [],
   "source": [
    "def drop_table():\n",
    "    connection, cursor = connect_to_sql('root', 'admin', 'sys')\n",
    "    QUERY = 'DELETE FROM sys.players'\n",
    "\n",
    "    cursor.execute(QUERY)\n",
    "    connection.commit()\n",
    "    connection.close()    "
   ]
  }
 ],
 "metadata": {
  "interpreter": {
   "hash": "26ab4e3eda37a59b3f170175b0524bf8ba674c8b1a4bbefa920a0a9c79b3fd73"
  },
  "kernelspec": {
   "display_name": "Python 3.10.2 ('aml_3104-venv')",
   "language": "python",
   "name": "python3"
  },
  "language_info": {
   "codemirror_mode": {
    "name": "ipython",
    "version": 3
   },
   "file_extension": ".py",
   "mimetype": "text/x-python",
   "name": "python",
   "nbconvert_exporter": "python",
   "pygments_lexer": "ipython3",
   "version": "3.10.2"
  },
  "orig_nbformat": 4
 },
 "nbformat": 4,
 "nbformat_minor": 2
}
