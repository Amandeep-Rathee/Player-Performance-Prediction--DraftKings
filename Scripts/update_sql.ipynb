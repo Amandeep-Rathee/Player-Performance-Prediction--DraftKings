{
 "cells": [
  {
   "cell_type": "code",
   "execution_count": 1,
   "metadata": {},
   "outputs": [],
   "source": [
    "import pickle\n",
    "import csv\n",
    "import mysql.connector\n",
    "from mysql.connector import errorcode"
   ]
  },
  {
   "cell_type": "code",
   "execution_count": 2,
   "metadata": {},
   "outputs": [],
   "source": [
    "path_to_website_data = 'G:/My Drive/Colab Notebooks/00 - Lambton/2022.1/04 - AML3406 - AI and ML Capstone Project/GitHub/Player-Performance-Improvement-Prediction/Scripts/website_data.pkl'\n",
    "\n",
    "# This file is included in .gitignore\n",
    "# It is a csv file with three columns.\n",
    "# The headers are: user, password, and database\n",
    "path_to_sql_settings = 'G:/My Drive/Colab Notebooks/00 - Lambton/2022.1/04 - AML3406 - AI and ML Capstone Project/GitHub/Player-Performance-Improvement-Prediction/Scripts/sql_database_settings.csv'\n",
    "\n",
    "with open(path_to_website_data, 'rb') as f:\n",
    "    data = pickle.load(f)\n",
    "\n",
    "with open(path_to_sql_settings) as f:\n",
    "    spamreader = csv.reader(f, delimiter=',')\n",
    "    sql_settings = [row for row in spamreader]\n",
    "    user = sql_settings[1][0]\n",
    "    password = sql_settings[1][1]\n",
    "    database = sql_settings[1][2]"
   ]
  },
  {
   "cell_type": "code",
   "execution_count": 3,
   "metadata": {},
   "outputs": [],
   "source": [
    "def connect_to_sql():\n",
    "    try:\n",
    "        connection = mysql.connector.connect(user=user,\n",
    "                                            password=password,\n",
    "                                            database=database)\n",
    "        cursor = connection.cursor()\n",
    "        return connection, cursor\n",
    "\n",
    "    except mysql.connector.Error as err:\n",
    "        if err.errno == errorcode.ER_ACCESS_DENIED_ERROR:\n",
    "            print(\"Something is wrong with your user name or password\")\n",
    "        elif err.errno == errorcode.ER_BAD_DB_ERROR:\n",
    "            print(\"Database does not exist\")\n",
    "        else:\n",
    "          print(err)\n",
    "    return None"
   ]
  },
  {
   "cell_type": "code",
   "execution_count": 23,
   "metadata": {},
   "outputs": [],
   "source": [
    "def insert_values_sql(data):\n",
    "    player_name = str(data[0])\n",
    "    salary = float(data[1])\n",
    "    team = str(data[2])\n",
    "    position = str(data[3])\n",
    "    draftking = float(data[4])\n",
    "\n",
    "    QUERY = f'INSERT INTO sys.players(player_name, salary, team, position, draftking) VALUES(\"{player_name}\", {salary}, \"{team}\", \"{position}\", {draftking})'\n",
    "    cursor.execute(QUERY)"
   ]
  },
  {
   "cell_type": "code",
   "execution_count": 5,
   "metadata": {},
   "outputs": [],
   "source": [
    "def delete_all_values():\n",
    "    QUERY = 'DELETE FROM sys.players'\n",
    "    cursor.execute(QUERY)"
   ]
  },
  {
   "cell_type": "code",
   "execution_count": 28,
   "metadata": {},
   "outputs": [],
   "source": [
    "connection, cursor = connect_to_sql()\n",
    "\n",
    "delete_all_values()\n",
    "\n",
    "for value in data.values:\n",
    "    insert_values_sql(value)\n",
    "\n",
    "connection.commit()\n",
    "connection.close()"
   ]
  }
 ],
 "metadata": {
  "interpreter": {
   "hash": "26ab4e3eda37a59b3f170175b0524bf8ba674c8b1a4bbefa920a0a9c79b3fd73"
  },
  "kernelspec": {
   "display_name": "Python 3.10.2 ('aml_3104-venv')",
   "language": "python",
   "name": "python3"
  },
  "language_info": {
   "codemirror_mode": {
    "name": "ipython",
    "version": 3
   },
   "file_extension": ".py",
   "mimetype": "text/x-python",
   "name": "python",
   "nbconvert_exporter": "python",
   "pygments_lexer": "ipython3",
   "version": "3.10.2"
  },
  "orig_nbformat": 4
 },
 "nbformat": 4,
 "nbformat_minor": 2
}
