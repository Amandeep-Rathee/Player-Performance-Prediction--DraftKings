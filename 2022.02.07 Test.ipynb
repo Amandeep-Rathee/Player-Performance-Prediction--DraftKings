{
 "cells": [
  {
   "cell_type": "code",
   "execution_count": 1,
   "metadata": {},
   "outputs": [
    {
     "name": "stdout",
     "output_type": "stream",
     "text": [
      "Goodbye World!\n"
     ]
    }
   ],
   "source": [
    "print(\"Goodbye World!\")"
   ]
  },
  {
   "cell_type": "code",
   "execution_count": 3,
   "metadata": {},
   "outputs": [
    {
     "data": {
      "text/plain": [
       "[2, 4, 6, 8, 10]"
      ]
     },
     "execution_count": 3,
     "metadata": {},
     "output_type": "execute_result"
    }
   ],
   "source": [
    "numbers = [1, 2, 3, 4, 5]\n",
    "\n",
    "double_numbers = [n*2 for n in numbers]\n",
    "\n",
    "double_numbers"
   ]
  }
 ],
 "metadata": {
  "interpreter": {
   "hash": "3a33b7c9f41f3d0555c86175fcd18d975f312bfacf6db047852762eed4e58e49"
  },
  "kernelspec": {
   "display_name": "Python 3.10.2 ('aml_3406-venv')",
   "language": "python",
   "name": "python3"
  },
  "language_info": {
   "codemirror_mode": {
    "name": "ipython",
    "version": 3
   },
   "file_extension": ".py",
   "mimetype": "text/x-python",
   "name": "python",
   "nbconvert_exporter": "python",
   "pygments_lexer": "ipython3",
   "version": "3.10.2"
  },
  "orig_nbformat": 4
 },
 "nbformat": 4,
 "nbformat_minor": 2
}
